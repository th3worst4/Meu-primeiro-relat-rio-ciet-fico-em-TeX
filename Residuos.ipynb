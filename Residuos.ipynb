{
 "cells": [
  {
   "cell_type": "code",
   "execution_count": 1,
   "id": "e898086b",
   "metadata": {},
   "outputs": [
    {
     "data": {
      "image/png": "[encoded data removed]",
      "text/plain": [
       "<Figure size 504x396 with 1 Axes>"
      ]
     },
     "metadata": {
      "needs_background": "light"
     },
     "output_type": "display_data"
    },
    {
     "name": "stdout",
     "output_type": "stream",
     "text": [
      "[2.10244637228508, 1.01523231059658, 0.234152330951198, -0.460439849486542, -0.887050120937796, -0.369443762318327, -0.296072064312423, -0.460181938747331, -0.199853025077816, -2.38628507044188, 0.224268125633213, -0.0402794940677536, 0.546513869671238, 0.506309817065429, 0.787013851672226, -0.316337690226515]\n",
      "-6.33774142944077e-6\n",
      "[0.         0.00028038 0.00112151 0.0025245  0.00448751 0.00701313\n",
      " 0.01009578 0.01374105 0.01795004 0.02271719 0.02804508 0.03393373\n",
      " 0.04038314 0.0474078  0.05496941 0.06310144]\n"
     ]
    }
   ],
   "source": [
    "from sympy import *\n",
    "import numpy as np\n",
    "import matplotlib.pyplot as plt\n",
    "\n",
    "x = Symbol('x')\n",
    "import matplotlib.pyplot as plt\n",
    "f = Lambda(x, -4.81218280*x-0.012477234)\n",
    "\n",
    "hfont = {'fontname':'Times New Roman'}\n",
    "\n",
    "\n",
    "t  = np.loadtxt(\"./Dados_1_Primeiro_quique.txt\",usecols=0) \n",
    "y  = np.loadtxt(\"./Dados_1_Primeiro_quique.txt\",usecols=1)\n",
    "t=t**2\n",
    "\n",
    "resq = []\n",
    "b = 0\n",
    "im = []\n",
    "\n",
    "for i in range(len(t)):\n",
    "    a = (y[i]-f(x).subs(x, t[i]))/0.0012455\n",
    "    resq.append(a)\n",
    "    b += a\n",
    "    im.append(f(x).subs(x, t[i]))\n",
    "\n",
    "    err = [0.05]*len(t)\n",
    "    \n",
    "figura = plt.figure(figsize=(7,5.5)) #tamanho da figura\n",
    "ax = figura.add_subplot(111)\n",
    "\n",
    "ax.set_title('Gráfico Resíduos x Tempo linearizado',fontsize=15, **hfont)\n",
    "\n",
    "ax.grid(visible=True,which=\"both\",axis=\"both\")\n",
    "ax.set_ylabel(\"Altura(m)\",fontsize=15, **hfont)\n",
    "ax.set_xlabel(\"Tempo(s²)\",fontsize=15, **hfont)\n",
    "\n",
    "\n",
    "ax.plot(t,resq, 'o', color = 'steelblue')\n",
    "\n",
    "plt.savefig('grafico_comparado.png', dpi=300, bbox_inches='tight') #salvar\n",
    "plt.box(on=True)\n",
    "\n",
    "plt.show()\n",
    "    \n",
    "    \n",
    "    \n",
    "print(resq)\n",
    "print(b)\n",
    "print(t)"
   ]
  },
  {
   "cell_type": "code",
   "execution_count": null,
   "id": "61ddbcec",
   "metadata": {},
   "outputs": [],
   "source": []
  }
 ],
 "metadata": {
  "kernelspec": {
   "display_name": "Python 3",
   "language": "python",
   "name": "python3"
  },
  "language_info": {
   "codemirror_mode": {
    "name": "ipython",
    "version": 3
   },
   "file_extension": ".py",
   "mimetype": "text/x-python",
   "name": "python",
   "nbconvert_exporter": "python",
   "pygments_lexer": "ipython3",
   "version": "3.8.8"
  }
 },
 "nbformat": 4,
 "nbformat_minor": 5
}

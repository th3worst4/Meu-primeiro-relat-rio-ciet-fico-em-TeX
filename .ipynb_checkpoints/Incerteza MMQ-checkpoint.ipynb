{
 "cells": [
  {
   "cell_type": "code",
   "execution_count": 1,
   "id": "c99ed8a6",
   "metadata": {},
   "outputs": [
    {
     "name": "stdout",
     "output_type": "stream",
     "text": [
      "6.326733333333332 0.037381814265801734\n",
      "0.01963904716838475 0.05307162845250568\n"
     ]
    }
   ],
   "source": [
    "import numpy as np\n",
    "\n",
    "x = np.loadtxt(\"Dados_1_Primeiro_quique.txt\",usecols=0) \n",
    "y = np.loadtxt(\"Dados_1_Primeiro_quique.txt\",usecols=1)\n",
    "\n",
    "x = x** \n",
    "\n",
    "n = len(x)\n",
    "\n",
    "a = -0.0123\n",
    "b = -4.8122\n",
    "\n",
    "\n",
    "soma_x2 = 0\n",
    "soma_x = 0\n",
    "soma_y = 0\n",
    "\n",
    "for i in range(n):\n",
    "    soma_x2 += x[i]**2\n",
    "    soma_x += x[i]\n",
    "    soma_y += (y[i]-a-b*x[i])**2\n",
    "    \n",
    "sigma_y = (soma_y/(n-2))**(1/2)\n",
    "sigma_a = sigma_y*(soma_x2/(n*soma_x2-(soma_x)**2))**(1/2)\n",
    "sigma_b = sigma_y*(n/(n*soma_x2-(soma_x)**2))**(1/2)\n",
    "\n",
    "print(soma_x,soma_y)\n",
    "print(sigma_a, sigma_b)\n",
    "    "
   ]
  }
 ],
 "metadata": {
  "kernelspec": {
   "display_name": "Python 3",
   "language": "python",
   "name": "python3"
  },
  "language_info": {
   "codemirror_mode": {
    "name": "ipython",
    "version": 3
   },
   "file_extension": ".py",
   "mimetype": "text/x-python",
   "name": "python",
   "nbconvert_exporter": "python",
   "pygments_lexer": "ipython3",
   "version": "3.8.8"
  }
 },
 "nbformat": 4,
 "nbformat_minor": 5
}

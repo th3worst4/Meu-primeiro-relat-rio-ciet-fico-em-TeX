{
 "cells": [
  {
   "cell_type": "markdown",
   "metadata": {},
   "source": [
    "# Tempo de Reação\n",
    "\n",
    "## Este python notebook produz um histograma  junto com uma curva gaussiana para um conjunto de dados relativo ao tempo de reação devido ao um estímulo visual. Os dados foram gerados utilizando :\n",
    "\n",
    "https://faculty.washington.edu/chudler/java/redgreen.html\n",
    "\n",
    "## Este estudo faz parte do curso de Física I Experimental do Instituto de Física da Universidade Federal Fluminense\n",
    "\n",
    "https://portal.if.uff.br/"
   ]
  },
  {
   "cell_type": "code",
   "execution_count": 1,
   "metadata": {
    "scrolled": false
   },
   "outputs": [
    {
     "name": "stdout",
     "output_type": "stream",
     "text": [
      "[1. 0. 0. 1. 6. 3. 2. 2. 0. 1.]\n",
      "[-2.38628507 -1.93741193 -1.48853878 -1.03966564 -0.59079249 -0.14191935\n",
      "  0.3069538   0.75582694  1.20470008  1.65357323  2.10244637]\n",
      "0.4488731442726961\n"
     ]
    },
    {
     "data": {
      "image/png": "[encoded data removed]",
      "text/plain": [
       "<Figure size 504x396 with 1 Axes>"
      ]
     },
     "metadata": {
      "needs_background": "light"
     },
     "output_type": "display_data"
    },
    {
     "name": "stdout",
     "output_type": "stream",
     "text": [
      "13\n"
     ]
    }
   ],
   "source": [
    "import matplotlib.pyplot as plt # biblioteca para gráficos \n",
    "import numpy as np              # biblioteca matemática\n",
    "\n",
    "####################################################\n",
    "# definindo fonte\n",
    "####################################################\n",
    "hfont = {'fontname':'Times New Roman'}\n",
    "\n",
    "####################################################\n",
    "# incializando o array data com os valores contidos em data.dat\n",
    "####################################################\n",
    "data = np.array([2.10244637228508, 1.01523231059658, 0.234152330951198, -0.460439849486542, -0.887050120937796, -0.369443762318327, -0.296072064312423, -0.460181938747331, -0.199853025077816, -2.38628507044188, 0.224268125633213, -0.0402794940677536, 0.546513869671238, 0.506309817065429, 0.787013851672226, -0.316337690226515])\n",
    "\n",
    "N=data.shape[0] # tamanho do conjunto de dados data.dat\n",
    "                # a função shape da o tamanho do array data\n",
    "\n",
    "####################################################\n",
    "# Cálculo da média\n",
    "####################################################\n",
    "mu = np.sum(data)/float(N)\n",
    "\n",
    "####################################################\n",
    "# Cálculo do desvio padrão\n",
    "####################################################\n",
    "soma=0.0\n",
    "for i in range(N):        # loop por todos os valores de xi\n",
    "    soma+=(data[i]-mu)**2 # (xi - x_medio)^2\n",
    "\n",
    "std=np.sqrt(soma/(float(N)-1)) # desvio padrão.\n",
    "\n",
    "####################################################\n",
    "# Resolução \n",
    "####################################################\n",
    "\n",
    "mu = round(mu,8)    # como a resolução do simulador é 0.001 s\n",
    "                    # a média e o desvio padrão devem ter 3 casas decimais.\n",
    "std = round(std,8)\n",
    "\n",
    "\n",
    "####################################################\n",
    "# Inicializado o gráfico\n",
    "####################################################\n",
    "figura = plt.figure(figsize=(7,5.5))\n",
    "ax = figura.add_subplot(111)\n",
    "\n",
    "####################################################\n",
    "# Ajustando detalhes do gráfico\n",
    "####################################################\n",
    "# descrição eixo-x\n",
    "ax.set_xlabel('Resíduo(m)',fontsize=15,**hfont) \n",
    "\n",
    "# descrição eixo-y\n",
    "ax.set_ylabel('Número de Ocorrências',fontsize=15,**hfont)          \n",
    "\n",
    "# Título do gráfico\n",
    "ax.set_title(r'Histograma Resíduos com Gaussiana',fontsize=15,**hfont)\n",
    "\n",
    "# inclui um grid no gráfico\n",
    "plt.grid(True)\n",
    "\n",
    "# Tamanho e tipo das fontes para o eixo x e y\n",
    "plt.xticks(fontsize=12, rotation=0,**hfont)\n",
    "plt.yticks(fontsize=12, rotation=0,**hfont)\n",
    "\n",
    "\n",
    "####################################################\n",
    "# Histograma\n",
    "####################################################\n",
    "# Lista com a largura dos bins. Notem que no meu caso a largura é de 0.025\n",
    "# Testem outros valores para ver como o histograma se modifica.\n",
    "#bin_list=[0.225,0.25,0.275,0.3,0.325,0.35,0.375,0.4]\n",
    "#bin_list=[0.22,0.24,0.26,0.28,0.30,0.32,0.34,0.36,0.38,0.40]\n",
    "bin_list=x2 = np.linspace(-2.2, 2.2, 44)\n",
    "####################################################\n",
    "# Criando o histograma\n",
    "####################################################\n",
    "n, bins,patch = ax.hist(data, bins = 10 ,density=False,facecolor='steelblue',alpha=0.75,rwidth=0.9)\n",
    "print(n)\n",
    "print(bins)\n",
    "# data é o conjunto de dados\n",
    "# bins é a lista com os intervalos dos bins\n",
    "\n",
    "# rwidth é a largura das barras do gráfico. Estou usando 0.9 para evitar\n",
    "# que as barras fiquem sobrepostas. Testem utilizar 1.0 para ver como fica.\n",
    "\n",
    "\n",
    "####################################################\n",
    "# Gráfico de uma Gaussiana\n",
    "####################################################\n",
    "# Distribuição Gaussiana : https://pt.wikipedia.org/wiki/Distribui%C3%A7%C3%A3o_normal\n",
    "\n",
    "bin_width=bins[1]-bins[0] # largura do bin\n",
    "\n",
    "x2 = np.linspace(mu - 3*std, mu + 3*std, 100)\n",
    "f = np.exp(-np.square(x2-mu)/(2*np.square(std)))/(std*np.sqrt(2*np.pi))\n",
    "\n",
    "f=f*(bin_width*N)\n",
    "\n",
    "\n",
    "ax.plot(x2,f,color=\"darkorange\",linestyle=\"--\")\n",
    "print(bin_width)\n",
    "####################################################\n",
    "# Incluindo linha vertical para a média\n",
    "####################################################\n",
    "plt.axvline(mu, 0, 15,color=\"red\",linestyle=\"-.\") \n",
    "plt.axvline(mu + std, 0, 15,color=\"red\",linestyle=\"-.\") \n",
    "plt.axvline(mu - std, 0, 15,color=\"red\",linestyle=\"-.\")\n",
    "plt.text(mu + std+0.02, 5.5, r'$+\\sigma$', fontsize=15,**hfont)\n",
    "plt.text(mu - std-0.5, 5.5, r'$-\\sigma$', fontsize=15,**hfont)\n",
    "plt.text(mu + 0.05, 5.5, r'Média', fontsize=15,**hfont,rotation='vertical')\n",
    "\n",
    "ocorr = 0\n",
    "for i in data:\n",
    "    if i <= mu + std and i >= mu - std:\n",
    "        ocorr+=1\n",
    "\n",
    "####################################################\n",
    "# salvando para um arquivo\n",
    "####################################################\n",
    "plt. savefig('histograma-Resíduos-gaussiana.png', dpi=300, bbox_inches='tight')\n",
    "\n",
    "####################################################\n",
    "# Mostrando o gráfico\n",
    "####################################################\n",
    "plt.show()\n",
    "print(ocorr)\n",
    "\n"
   ]
  },
  {
   "cell_type": "code",
   "execution_count": null,
   "metadata": {},
   "outputs": [],
   "source": []
  },
  {
   "cell_type": "code",
   "execution_count": null,
   "metadata": {},
   "outputs": [],
   "source": []
  }
 ],
 "metadata": {
  "kernelspec": {
   "display_name": "Python 3",
   "language": "python",
   "name": "python3"
  },
  "language_info": {
   "codemirror_mode": {
    "name": "ipython",
    "version": 3
   },
   "file_extension": ".py",
   "mimetype": "text/x-python",
   "name": "python",
   "nbconvert_exporter": "python",
   "pygments_lexer": "ipython3",
   "version": "3.8.8"
  }
 },
 "nbformat": 4,
 "nbformat_minor": 4
}
